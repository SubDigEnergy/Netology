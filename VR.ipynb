{
 "cells": [
  {
   "cell_type": "markdown",
   "id": "323bd696",
   "metadata": {},
   "source": [
    "# Задание\n",
    "\n",
    "Дан файл HR.csv с данными по опросу уровня удовлетворенности сотрудниками работой.\n",
    "\n",
    "Признаки:\n",
    "1. satisfaction_level​- Уровень удовлетворенности работой\n",
    "2. Last_evaluation -​ Время с момента последней оценки в годах\n",
    "3. number_projects​- Количество проектов, выполненных за время работы\n",
    "4. average_monthly_hours​- Среднее количество часов на рабочем месте в месяц\n",
    "5. time_spend_company​- Стаж работы в компании в годах\n",
    "6. work_accident​- Происходили ли несчастные случаи на рабочем месте с сотрудником\n",
    "7. left​- уволился ли сотрудник\n",
    "8. promotion_last_5years​- повышался ли сотрудник за последние пять лет\n",
    "9. department -​ отдел в котором работает сотрудник\n",
    "10. salary​- относительный уровень зарплаты"
   ]
  },
  {
   "cell_type": "code",
   "execution_count": null,
   "id": "a5a44ff8",
   "metadata": {},
   "outputs": [],
   "source": [
    "import pandas as pd\n",
    "import numpy as np\n",
    "import matplotlib.pyplot as plt\n",
    "from scipy import stats\n",
    "import seaborn as sns\n",
    "from sklearn.model_selection import train_test_split\n",
    "from sklearn.discriminant_analysis import LinearDiscriminantAnalysis\n",
    "from sklearn.metrics import accuracy_score"
   ]
  },
  {
   "cell_type": "markdown",
   "id": "fa66ba95",
   "metadata": {},
   "source": [
    "## Задание 1\n",
    "Загрузите файл HR.csv в pandas dataframe"
   ]
  },
  {
   "cell_type": "code",
   "execution_count": null,
   "id": "f7bf6585",
   "metadata": {},
   "outputs": [],
   "source": [
    "main_df = pd.read_csv('HR.csv')\n",
    "main_df.info()\n",
    "main_df.dropna().info()"
   ]
  },
  {
   "cell_type": "code",
   "execution_count": null,
   "id": "13d0b6a8",
   "metadata": {},
   "outputs": [],
   "source": [
    "main_df.head(10)\n",
    "#main_df.isna().sum()"
   ]
  },
  {
   "cell_type": "markdown",
   "id": "7096ba3c",
   "metadata": {},
   "source": [
    "## Задание 2\n",
    "Рассчитайте основные статистики для переменных (среднее,медиана,мода,мин/макс,сред.отклонение)."
   ]
  },
  {
   "cell_type": "code",
   "execution_count": null,
   "id": "ae31ce92",
   "metadata": {},
   "outputs": [],
   "source": [
    "main_df.describe()"
   ]
  },
  {
   "cell_type": "code",
   "execution_count": null,
   "id": "abbe3d3f",
   "metadata": {},
   "outputs": [],
   "source": [
    "main_df.mean(numeric_only=True) #среднее"
   ]
  },
  {
   "cell_type": "code",
   "execution_count": null,
   "id": "88d9098b",
   "metadata": {},
   "outputs": [],
   "source": [
    "main_df.median(numeric_only=True) #медиана"
   ]
  },
  {
   "cell_type": "code",
   "execution_count": null,
   "id": "8dd94191",
   "metadata": {},
   "outputs": [],
   "source": [
    "main_df.mode(numeric_only=True) #мода"
   ]
  },
  {
   "cell_type": "code",
   "execution_count": null,
   "id": "2e657ecf",
   "metadata": {},
   "outputs": [],
   "source": [
    "main_df.min(numeric_only=True) #минимум"
   ]
  },
  {
   "cell_type": "code",
   "execution_count": null,
   "id": "08143532",
   "metadata": {},
   "outputs": [],
   "source": [
    "main_df.max(numeric_only=True) #максимум"
   ]
  },
  {
   "cell_type": "code",
   "execution_count": null,
   "id": "47da07c5",
   "metadata": {},
   "outputs": [],
   "source": [
    "main_df.std(numeric_only=True) #стандартное отклонение"
   ]
  },
  {
   "cell_type": "markdown",
   "id": "a9722743",
   "metadata": {},
   "source": [
    "## Задание 3\n",
    "Рассчитайте и визуализировать корреляционную матрицу для количественных переменных.\n",
    "Определите две самые скоррелированные и две наименее скоррелированные переменные."
   ]
  },
  {
   "cell_type": "code",
   "execution_count": null,
   "id": "a5e55ab2",
   "metadata": {},
   "outputs": [],
   "source": [
    "corr = main_df.corr(numeric_only=True)\n",
    "corr.style.background_gradient(cmap='RdYlGn')"
   ]
  },
  {
   "cell_type": "code",
   "execution_count": null,
   "id": "07ab3d28",
   "metadata": {},
   "outputs": [],
   "source": [
    "sns.heatmap(corr) # построение тепловой карты с помощью библиотеки seaborn"
   ]
  },
  {
   "cell_type": "code",
   "execution_count": null,
   "id": "b2f104c9",
   "metadata": {},
   "outputs": [],
   "source": [
    "corr1 = corr.unstack().sort_values()\n",
    "corr1[corr1 == corr1.min()] #минимальная пара"
   ]
  },
  {
   "cell_type": "code",
   "execution_count": null,
   "id": "d545164d",
   "metadata": {},
   "outputs": [],
   "source": [
    "corr2 = corr1[corr1 < 1.0]\n",
    "corr2[corr2 == corr2.max()] #максимальная пара"
   ]
  },
  {
   "cell_type": "markdown",
   "id": "6d4f7e53",
   "metadata": {},
   "source": [
    "## Задание 4\n",
    "Рассчитайте сколько сотрудников работает в каждом департаменте."
   ]
  },
  {
   "cell_type": "code",
   "execution_count": null,
   "id": "23499537",
   "metadata": {},
   "outputs": [],
   "source": [
    "main_df['department'][main_df['left'] ==0].value_counts() #только работающие сейчас сотрудники"
   ]
  },
  {
   "cell_type": "markdown",
   "id": "39243499",
   "metadata": {},
   "source": [
    "## Задание 5\n",
    "Показать распределение сотрудников по зарплатам."
   ]
  },
  {
   "cell_type": "code",
   "execution_count": null,
   "id": "4d6d9bf1",
   "metadata": {},
   "outputs": [],
   "source": [
    "main_df['salary'][main_df['left'] == 0].hist(bins=30) #только работающие сотрудники\n",
    "plt.xlabel('salary')\n",
    "plt.ylabel('workers')\n",
    "plt.show()"
   ]
  },
  {
   "cell_type": "markdown",
   "id": "76b03070",
   "metadata": {},
   "source": [
    "## Задание 6\n",
    "Показать распределение сотрудников по зарплатам в каждом департаменте по отдельности"
   ]
  },
  {
   "cell_type": "code",
   "execution_count": null,
   "id": "0a25df3f",
   "metadata": {},
   "outputs": [],
   "source": [
    "plt.figure(figsize=(10,18))\n",
    "j = 1\n",
    "for department in main_df['department'].unique():\n",
    "    plt.subplot(5,2,j)\n",
    "    main_df['salary'][(main_df['left'] == 0) & (main_df['department'] == department)].hist(bins=30)\n",
    "    plt.title(department)\n",
    "    #plt.xlabel('salary')\n",
    "    plt.ylabel('workers')\n",
    "    j += 1\n",
    "plt.show()"
   ]
  },
  {
   "cell_type": "code",
   "execution_count": null,
   "id": "e4e2ca4f",
   "metadata": {},
   "outputs": [],
   "source": [
    "plt.figure(figsize=(12,10))\n",
    "j = 1\n",
    "for department in main_df['department'].unique():\n",
    "    main_df['salary'][(main_df['left'] == 0) & (main_df['department'] == department)].hist(bins=(10 + j*5))\n",
    "    plt.title('Распределение зарплат')\n",
    "    plt.xlabel('salary')\n",
    "    plt.ylabel('workers')\n",
    "    j += 1\n",
    "plt.legend(main_df['department'].unique())\n",
    "plt.show()"
   ]
  },
  {
   "cell_type": "markdown",
   "id": "352eb514",
   "metadata": {},
   "source": [
    "## Задание 7\n",
    "Проверить гипотезу, что сотрудники с высоким окладом проводят на работе больше времени, чем сотрудники с низким окладом"
   ]
  },
  {
   "cell_type": "code",
   "execution_count": null,
   "id": "1e80f7c5",
   "metadata": {},
   "outputs": [],
   "source": [
    "# H0 - сотрудники проводят примерно одинаково времени на работе\n",
    "# H1 - сотрудники с высоким окладом проводят на работе больше времени\n",
    "#print(main_df[main_df['salary'] == 'high']['average_montly_hours'].count()) #1237 выборок\n",
    "#print(main_df[main_df['salary'] == 'low']['average_montly_hours'].count()) #7316 выборок\n",
    "high_salary = main_df[main_df['salary'] == 'high']['average_montly_hours'].values\n",
    "low1 = main_df[main_df['salary'] == 'low'].reset_index()\n",
    "low1.head(100)\n",
    "low1 = low1['average_montly_hours'].groupby(np.arange(len(low1.index))//5, axis=0).mean()\n",
    "# усреднили группами по 5 значений? так как их много\n",
    "print(low1.mean())\n",
    "print(main_df[main_df['salary'] == 'low']['average_montly_hours'].values.mean())\n",
    "# среднее близко\n",
    "print(main_df[main_df['salary'] == 'high']['average_montly_hours'].values.mean())\n",
    "low_salary = low1.iloc[0:1237].values # сравняли выборки\n",
    "p = stats.ttest_ind(high_salary, low_salary, equal_var = True)\n",
    "print(p)\n",
    "if p[1] < 0.05:\n",
    "    print(\"Отклоняем нулевую гипотезу\")\n",
    "else:\n",
    "    print(\"Не отклоняем нулевую гипотезу\")"
   ]
  },
  {
   "cell_type": "markdown",
   "id": "c138fd7b",
   "metadata": {},
   "source": [
    "## Задание 8\n",
    "Рассчитать следующие показатели среди уволившихся и не уволившихся сотрудников (по отдельности):\n",
    "● Доля сотрудников с повышением за последние 5 лет\n",
    "● Средняя степень удовлетворенности\n",
    "● Среднее количество проектов"
   ]
  },
  {
   "cell_type": "code",
   "execution_count": null,
   "id": "1a9d7b17",
   "metadata": {},
   "outputs": [],
   "source": [
    "working = main_df[main_df['left'] == 0]\n",
    "lefted = main_df[main_df['left'] == 1]"
   ]
  },
  {
   "cell_type": "code",
   "execution_count": null,
   "id": "bcb68476",
   "metadata": {},
   "outputs": [],
   "source": [
    "print('Для работающих сотрудников')\n",
    "print(f\"Доля сотрудников с повышением за последние 5 лет: {working[working['promotion_last_5years'] == 1]['promotion_last_5years'].count() / working['promotion_last_5years'].count() *100:.3f}%\")\n",
    "print(f\"Средняя степень удовлетворенности: {working['satisfaction_level'].mean():.2f}\")\n",
    "print(f\"Среднее количество проектов: {working['number_project'].mean():.2f}\")\n"
   ]
  },
  {
   "cell_type": "code",
   "execution_count": null,
   "id": "9fc2c327",
   "metadata": {},
   "outputs": [],
   "source": [
    "print('Для бывших сотрудников')\n",
    "print(f\"Доля сотрудников с повышением за последние 5 лет: {lefted[lefted['promotion_last_5years'] == 1]['promotion_last_5years'].count() / working['promotion_last_5years'].count() *100:.3f}%\")\n",
    "print(f\"Средняя степень удовлетворенности: {lefted['satisfaction_level'].mean():.2f}\")\n",
    "print(f\"Среднее количество проектов: {lefted['number_project'].mean():.2f}\")"
   ]
  },
  {
   "cell_type": "markdown",
   "id": "efd2f1b8",
   "metadata": {},
   "source": [
    "## Задание 9\n",
    "Разделить данные на тестовую и обучающую выборки Построить модель LDA, предсказывающую уволился ли сотрудник на основе имеющихся факторов (кроме department и salary)\n",
    "Оценить качество модели на тестовой выборки"
   ]
  },
  {
   "cell_type": "code",
   "execution_count": null,
   "id": "6aaf6765",
   "metadata": {},
   "outputs": [],
   "source": [
    "X = main_df[['satisfaction_level', 'last_evaluation', 'number_project', 'average_montly_hours', 'time_spend_company', 'Work_accident', 'promotion_last_5years']]\n",
    "y = main_df['left'].values\n",
    "X_train, X_test, y_train, y_test = train_test_split(X, y,train_size=2/3, random_state=0)\n",
    "\n",
    "lda = LinearDiscriminantAnalysis()\n",
    "lda.fit(X_train, y_train)\n"
   ]
  },
  {
   "cell_type": "code",
   "execution_count": null,
   "id": "7b46bf79",
   "metadata": {},
   "outputs": [],
   "source": [
    "result = pd.DataFrame([y_test, lda.predict(X_test)]).T\n",
    "accuracy_score(y_test, lda.predict(X_test))"
   ]
  },
  {
   "cell_type": "markdown",
   "id": "caaa10c3",
   "metadata": {},
   "source": [
    "Ни изменение тестовой выборки, ни подмешивание случайных значений существенно не изменяют результат, который с учетом человеческого фактора довольно высок\n"
   ]
  },
  {
   "cell_type": "markdown",
   "id": "2b2ede8b",
   "metadata": {},
   "source": [
    "## Задание 10\n",
    "Загрузить jupyter notebook с решение на github и прислать ссылку"
   ]
  },
  {
   "cell_type": "markdown",
   "id": "9e40ad11",
   "metadata": {},
   "source": [
    "Выполнено"
   ]
  }
 ],
 "metadata": {
  "kernelspec": {
   "display_name": "Python 3 (ipykernel)",
   "language": "python",
   "name": "python3"
  },
  "language_info": {
   "codemirror_mode": {
    "name": "ipython",
    "version": 3
   },
   "file_extension": ".py",
   "mimetype": "text/x-python",
   "name": "python",
   "nbconvert_exporter": "python",
   "pygments_lexer": "ipython3",
   "version": "3.8.6"
  }
 },
 "nbformat": 4,
 "nbformat_minor": 5
}
