{
 "cells": [
  {
   "cell_type": "markdown",
   "id": "323bd696",
   "metadata": {},
   "source": [
    "# Задание\n",
    "\n",
    "Дан файл HR.csv с данными по опросу уровня удовлетворенности сотрудниками работой.\n",
    "\n",
    "Признаки:\n",
    "1. satisfaction_level​- Уровень удовлетворенности работой\n",
    "2. Last_evaluation -​ Время с момента последней оценки в годах\n",
    "3. number_projects​- Количество проектов, выполненных за время работы\n",
    "4. average_monthly_hours​- Среднее количество часов на рабочем месте в месяц\n",
    "5. time_spend_company​- Стаж работы в компании в годах\n",
    "6. work_accident​- Происходили ли несчастные случаи на рабочем месте с сотрудником\n",
    "7. left​- уволился ли сотрудник\n",
    "8. promotion_last_5years​- повышался ли сотрудник за последние пять лет\n",
    "9. department -​ отдел в котором работает сотрудник\n",
    "10. salary​- относительный уровень зарплаты"
   ]
  },
  {
   "cell_type": "code",
   "execution_count": 1,
   "id": "a5a44ff8",
   "metadata": {},
   "outputs": [],
   "source": [
    "import pandas as pd\n",
    "import numpy as np\n",
    "import matplotlib.pyplot as plt\n",
    "from scipy import stats\n",
    "import seaborn as sns\n",
    "from sklearn.model_selection import train_test_split\n",
    "from sklearn.discriminant_analysis import LinearDiscriminantAnalysis\n",
    "from sklearn.metrics import accuracy_score"
   ]
  },
  {
   "cell_type": "markdown",
   "id": "fa66ba95",
   "metadata": {},
   "source": [
    "## Задание 1\n",
    "Загрузите файл HR.csv в pandas dataframe"
   ]
  },
  {
   "cell_type": "code",
   "execution_count": 2,
   "id": "f7bf6585",
   "metadata": {},
   "outputs": [
    {
     "name": "stdout",
     "output_type": "stream",
     "text": [
      "<class 'pandas.core.frame.DataFrame'>\n",
      "RangeIndex: 14999 entries, 0 to 14998\n",
      "Data columns (total 10 columns):\n",
      " #   Column                 Non-Null Count  Dtype  \n",
      "---  ------                 --------------  -----  \n",
      " 0   satisfaction_level     14999 non-null  float64\n",
      " 1   last_evaluation        14999 non-null  float64\n",
      " 2   number_project         14999 non-null  int64  \n",
      " 3   average_montly_hours   14999 non-null  int64  \n",
      " 4   time_spend_company     14999 non-null  int64  \n",
      " 5   Work_accident          14999 non-null  int64  \n",
      " 6   left                   14999 non-null  int64  \n",
      " 7   promotion_last_5years  14999 non-null  int64  \n",
      " 8   department             14999 non-null  object \n",
      " 9   salary                 14999 non-null  object \n",
      "dtypes: float64(2), int64(6), object(2)\n",
      "memory usage: 1.1+ MB\n",
      "<class 'pandas.core.frame.DataFrame'>\n",
      "RangeIndex: 14999 entries, 0 to 14998\n",
      "Data columns (total 10 columns):\n",
      " #   Column                 Non-Null Count  Dtype  \n",
      "---  ------                 --------------  -----  \n",
      " 0   satisfaction_level     14999 non-null  float64\n",
      " 1   last_evaluation        14999 non-null  float64\n",
      " 2   number_project         14999 non-null  int64  \n",
      " 3   average_montly_hours   14999 non-null  int64  \n",
      " 4   time_spend_company     14999 non-null  int64  \n",
      " 5   Work_accident          14999 non-null  int64  \n",
      " 6   left                   14999 non-null  int64  \n",
      " 7   promotion_last_5years  14999 non-null  int64  \n",
      " 8   department             14999 non-null  object \n",
      " 9   salary                 14999 non-null  object \n",
      "dtypes: float64(2), int64(6), object(2)\n",
      "memory usage: 1.1+ MB\n"
     ]
    }
   ],
   "source": [
    "main_df = pd.read_csv('HR.csv')\n",
    "main_df.info()\n",
    "main_df.dropna().info()"
   ]
  },
  {
   "cell_type": "code",
   "execution_count": 3,
   "id": "13d0b6a8",
   "metadata": {},
   "outputs": [
    {
     "data": {
      "text/html": [
       "<div>\n",
       "<style scoped>\n",
       "    .dataframe tbody tr th:only-of-type {\n",
       "        vertical-align: middle;\n",
       "    }\n",
       "\n",
       "    .dataframe tbody tr th {\n",
       "        vertical-align: top;\n",
       "    }\n",
       "\n",
       "    .dataframe thead th {\n",
       "        text-align: right;\n",
       "    }\n",
       "</style>\n",
       "<table border=\"1\" class=\"dataframe\">\n",
       "  <thead>\n",
       "    <tr style=\"text-align: right;\">\n",
       "      <th></th>\n",
       "      <th>satisfaction_level</th>\n",
       "      <th>last_evaluation</th>\n",
       "      <th>number_project</th>\n",
       "      <th>average_montly_hours</th>\n",
       "      <th>time_spend_company</th>\n",
       "      <th>Work_accident</th>\n",
       "      <th>left</th>\n",
       "      <th>promotion_last_5years</th>\n",
       "      <th>department</th>\n",
       "      <th>salary</th>\n",
       "    </tr>\n",
       "  </thead>\n",
       "  <tbody>\n",
       "    <tr>\n",
       "      <th>0</th>\n",
       "      <td>0.38</td>\n",
       "      <td>0.53</td>\n",
       "      <td>2</td>\n",
       "      <td>157</td>\n",
       "      <td>3</td>\n",
       "      <td>0</td>\n",
       "      <td>1</td>\n",
       "      <td>0</td>\n",
       "      <td>sales</td>\n",
       "      <td>low</td>\n",
       "    </tr>\n",
       "    <tr>\n",
       "      <th>1</th>\n",
       "      <td>0.80</td>\n",
       "      <td>0.86</td>\n",
       "      <td>5</td>\n",
       "      <td>262</td>\n",
       "      <td>6</td>\n",
       "      <td>0</td>\n",
       "      <td>1</td>\n",
       "      <td>0</td>\n",
       "      <td>sales</td>\n",
       "      <td>medium</td>\n",
       "    </tr>\n",
       "    <tr>\n",
       "      <th>2</th>\n",
       "      <td>0.11</td>\n",
       "      <td>0.88</td>\n",
       "      <td>7</td>\n",
       "      <td>272</td>\n",
       "      <td>4</td>\n",
       "      <td>0</td>\n",
       "      <td>1</td>\n",
       "      <td>0</td>\n",
       "      <td>sales</td>\n",
       "      <td>medium</td>\n",
       "    </tr>\n",
       "    <tr>\n",
       "      <th>3</th>\n",
       "      <td>0.72</td>\n",
       "      <td>0.87</td>\n",
       "      <td>5</td>\n",
       "      <td>223</td>\n",
       "      <td>5</td>\n",
       "      <td>0</td>\n",
       "      <td>1</td>\n",
       "      <td>0</td>\n",
       "      <td>sales</td>\n",
       "      <td>low</td>\n",
       "    </tr>\n",
       "    <tr>\n",
       "      <th>4</th>\n",
       "      <td>0.37</td>\n",
       "      <td>0.52</td>\n",
       "      <td>2</td>\n",
       "      <td>159</td>\n",
       "      <td>3</td>\n",
       "      <td>0</td>\n",
       "      <td>1</td>\n",
       "      <td>0</td>\n",
       "      <td>sales</td>\n",
       "      <td>low</td>\n",
       "    </tr>\n",
       "    <tr>\n",
       "      <th>5</th>\n",
       "      <td>0.41</td>\n",
       "      <td>0.50</td>\n",
       "      <td>2</td>\n",
       "      <td>153</td>\n",
       "      <td>3</td>\n",
       "      <td>0</td>\n",
       "      <td>1</td>\n",
       "      <td>0</td>\n",
       "      <td>sales</td>\n",
       "      <td>low</td>\n",
       "    </tr>\n",
       "    <tr>\n",
       "      <th>6</th>\n",
       "      <td>0.10</td>\n",
       "      <td>0.77</td>\n",
       "      <td>6</td>\n",
       "      <td>247</td>\n",
       "      <td>4</td>\n",
       "      <td>0</td>\n",
       "      <td>1</td>\n",
       "      <td>0</td>\n",
       "      <td>sales</td>\n",
       "      <td>low</td>\n",
       "    </tr>\n",
       "    <tr>\n",
       "      <th>7</th>\n",
       "      <td>0.92</td>\n",
       "      <td>0.85</td>\n",
       "      <td>5</td>\n",
       "      <td>259</td>\n",
       "      <td>5</td>\n",
       "      <td>0</td>\n",
       "      <td>1</td>\n",
       "      <td>0</td>\n",
       "      <td>sales</td>\n",
       "      <td>low</td>\n",
       "    </tr>\n",
       "    <tr>\n",
       "      <th>8</th>\n",
       "      <td>0.89</td>\n",
       "      <td>1.00</td>\n",
       "      <td>5</td>\n",
       "      <td>224</td>\n",
       "      <td>5</td>\n",
       "      <td>0</td>\n",
       "      <td>1</td>\n",
       "      <td>0</td>\n",
       "      <td>sales</td>\n",
       "      <td>low</td>\n",
       "    </tr>\n",
       "    <tr>\n",
       "      <th>9</th>\n",
       "      <td>0.42</td>\n",
       "      <td>0.53</td>\n",
       "      <td>2</td>\n",
       "      <td>142</td>\n",
       "      <td>3</td>\n",
       "      <td>0</td>\n",
       "      <td>1</td>\n",
       "      <td>0</td>\n",
       "      <td>sales</td>\n",
       "      <td>low</td>\n",
       "    </tr>\n",
       "  </tbody>\n",
       "</table>\n",
       "</div>"
      ],
      "text/plain": [
       "   satisfaction_level  last_evaluation  number_project  average_montly_hours   \n",
       "0                0.38             0.53               2                   157  \\\n",
       "1                0.80             0.86               5                   262   \n",
       "2                0.11             0.88               7                   272   \n",
       "3                0.72             0.87               5                   223   \n",
       "4                0.37             0.52               2                   159   \n",
       "5                0.41             0.50               2                   153   \n",
       "6                0.10             0.77               6                   247   \n",
       "7                0.92             0.85               5                   259   \n",
       "8                0.89             1.00               5                   224   \n",
       "9                0.42             0.53               2                   142   \n",
       "\n",
       "   time_spend_company  Work_accident  left  promotion_last_5years department   \n",
       "0                   3              0     1                      0      sales  \\\n",
       "1                   6              0     1                      0      sales   \n",
       "2                   4              0     1                      0      sales   \n",
       "3                   5              0     1                      0      sales   \n",
       "4                   3              0     1                      0      sales   \n",
       "5                   3              0     1                      0      sales   \n",
       "6                   4              0     1                      0      sales   \n",
       "7                   5              0     1                      0      sales   \n",
       "8                   5              0     1                      0      sales   \n",
       "9                   3              0     1                      0      sales   \n",
       "\n",
       "   salary  \n",
       "0     low  \n",
       "1  medium  \n",
       "2  medium  \n",
       "3     low  \n",
       "4     low  \n",
       "5     low  \n",
       "6     low  \n",
       "7     low  \n",
       "8     low  \n",
       "9     low  "
      ]
     },
     "execution_count": 3,
     "metadata": {},
     "output_type": "execute_result"
    }
   ],
   "source": [
    "main_df.head(10)\n",
    "#main_df.isna().sum()"
   ]
  },
  {
   "cell_type": "markdown",
   "id": "7096ba3c",
   "metadata": {},
   "source": [
    "## Задание 2\n",
    "Рассчитайте основные статистики для переменных (среднее,медиана,мода,мин/макс,сред.отклонение)."
   ]
  },
  {
   "cell_type": "code",
   "execution_count": 4,
   "id": "ae31ce92",
   "metadata": {},
   "outputs": [
    {
     "data": {
      "text/html": [
       "<div>\n",
       "<style scoped>\n",
       "    .dataframe tbody tr th:only-of-type {\n",
       "        vertical-align: middle;\n",
       "    }\n",
       "\n",
       "    .dataframe tbody tr th {\n",
       "        vertical-align: top;\n",
       "    }\n",
       "\n",
       "    .dataframe thead th {\n",
       "        text-align: right;\n",
       "    }\n",
       "</style>\n",
       "<table border=\"1\" class=\"dataframe\">\n",
       "  <thead>\n",
       "    <tr style=\"text-align: right;\">\n",
       "      <th></th>\n",
       "      <th>satisfaction_level</th>\n",
       "      <th>last_evaluation</th>\n",
       "      <th>number_project</th>\n",
       "      <th>average_montly_hours</th>\n",
       "      <th>time_spend_company</th>\n",
       "      <th>Work_accident</th>\n",
       "      <th>left</th>\n",
       "      <th>promotion_last_5years</th>\n",
       "    </tr>\n",
       "  </thead>\n",
       "  <tbody>\n",
       "    <tr>\n",
       "      <th>count</th>\n",
       "      <td>14999.000000</td>\n",
       "      <td>14999.000000</td>\n",
       "      <td>14999.000000</td>\n",
       "      <td>14999.000000</td>\n",
       "      <td>14999.000000</td>\n",
       "      <td>14999.000000</td>\n",
       "      <td>14999.000000</td>\n",
       "      <td>14999.000000</td>\n",
       "    </tr>\n",
       "    <tr>\n",
       "      <th>mean</th>\n",
       "      <td>0.612834</td>\n",
       "      <td>0.716102</td>\n",
       "      <td>3.803054</td>\n",
       "      <td>201.050337</td>\n",
       "      <td>3.498233</td>\n",
       "      <td>0.144610</td>\n",
       "      <td>0.238083</td>\n",
       "      <td>0.021268</td>\n",
       "    </tr>\n",
       "    <tr>\n",
       "      <th>std</th>\n",
       "      <td>0.248631</td>\n",
       "      <td>0.171169</td>\n",
       "      <td>1.232592</td>\n",
       "      <td>49.943099</td>\n",
       "      <td>1.460136</td>\n",
       "      <td>0.351719</td>\n",
       "      <td>0.425924</td>\n",
       "      <td>0.144281</td>\n",
       "    </tr>\n",
       "    <tr>\n",
       "      <th>min</th>\n",
       "      <td>0.090000</td>\n",
       "      <td>0.360000</td>\n",
       "      <td>2.000000</td>\n",
       "      <td>96.000000</td>\n",
       "      <td>2.000000</td>\n",
       "      <td>0.000000</td>\n",
       "      <td>0.000000</td>\n",
       "      <td>0.000000</td>\n",
       "    </tr>\n",
       "    <tr>\n",
       "      <th>25%</th>\n",
       "      <td>0.440000</td>\n",
       "      <td>0.560000</td>\n",
       "      <td>3.000000</td>\n",
       "      <td>156.000000</td>\n",
       "      <td>3.000000</td>\n",
       "      <td>0.000000</td>\n",
       "      <td>0.000000</td>\n",
       "      <td>0.000000</td>\n",
       "    </tr>\n",
       "    <tr>\n",
       "      <th>50%</th>\n",
       "      <td>0.640000</td>\n",
       "      <td>0.720000</td>\n",
       "      <td>4.000000</td>\n",
       "      <td>200.000000</td>\n",
       "      <td>3.000000</td>\n",
       "      <td>0.000000</td>\n",
       "      <td>0.000000</td>\n",
       "      <td>0.000000</td>\n",
       "    </tr>\n",
       "    <tr>\n",
       "      <th>75%</th>\n",
       "      <td>0.820000</td>\n",
       "      <td>0.870000</td>\n",
       "      <td>5.000000</td>\n",
       "      <td>245.000000</td>\n",
       "      <td>4.000000</td>\n",
       "      <td>0.000000</td>\n",
       "      <td>0.000000</td>\n",
       "      <td>0.000000</td>\n",
       "    </tr>\n",
       "    <tr>\n",
       "      <th>max</th>\n",
       "      <td>1.000000</td>\n",
       "      <td>1.000000</td>\n",
       "      <td>7.000000</td>\n",
       "      <td>310.000000</td>\n",
       "      <td>10.000000</td>\n",
       "      <td>1.000000</td>\n",
       "      <td>1.000000</td>\n",
       "      <td>1.000000</td>\n",
       "    </tr>\n",
       "  </tbody>\n",
       "</table>\n",
       "</div>"
      ],
      "text/plain": [
       "       satisfaction_level  last_evaluation  number_project   \n",
       "count        14999.000000     14999.000000    14999.000000  \\\n",
       "mean             0.612834         0.716102        3.803054   \n",
       "std              0.248631         0.171169        1.232592   \n",
       "min              0.090000         0.360000        2.000000   \n",
       "25%              0.440000         0.560000        3.000000   \n",
       "50%              0.640000         0.720000        4.000000   \n",
       "75%              0.820000         0.870000        5.000000   \n",
       "max              1.000000         1.000000        7.000000   \n",
       "\n",
       "       average_montly_hours  time_spend_company  Work_accident          left   \n",
       "count          14999.000000        14999.000000   14999.000000  14999.000000  \\\n",
       "mean             201.050337            3.498233       0.144610      0.238083   \n",
       "std               49.943099            1.460136       0.351719      0.425924   \n",
       "min               96.000000            2.000000       0.000000      0.000000   \n",
       "25%              156.000000            3.000000       0.000000      0.000000   \n",
       "50%              200.000000            3.000000       0.000000      0.000000   \n",
       "75%              245.000000            4.000000       0.000000      0.000000   \n",
       "max              310.000000           10.000000       1.000000      1.000000   \n",
       "\n",
       "       promotion_last_5years  \n",
       "count           14999.000000  \n",
       "mean                0.021268  \n",
       "std                 0.144281  \n",
       "min                 0.000000  \n",
       "25%                 0.000000  \n",
       "50%                 0.000000  \n",
       "75%                 0.000000  \n",
       "max                 1.000000  "
      ]
     },
     "execution_count": 4,
     "metadata": {},
     "output_type": "execute_result"
    }
   ],
   "source": [
    "main_df.describe()"
   ]
  },
  {
   "cell_type": "code",
   "execution_count": 5,
   "id": "abbe3d3f",
   "metadata": {},
   "outputs": [
    {
     "data": {
      "text/plain": [
       "satisfaction_level         0.612834\n",
       "last_evaluation            0.716102\n",
       "number_project             3.803054\n",
       "average_montly_hours     201.050337\n",
       "time_spend_company         3.498233\n",
       "Work_accident              0.144610\n",
       "left                       0.238083\n",
       "promotion_last_5years      0.021268\n",
       "dtype: float64"
      ]
     },
     "execution_count": 5,
     "metadata": {},
     "output_type": "execute_result"
    }
   ],
   "source": [
    "main_df.mean(numeric_only=True) #среднее"
   ]
  },
  {
   "cell_type": "code",
   "execution_count": 6,
   "id": "88d9098b",
   "metadata": {},
   "outputs": [
    {
     "data": {
      "text/plain": [
       "satisfaction_level         0.64\n",
       "last_evaluation            0.72\n",
       "number_project             4.00\n",
       "average_montly_hours     200.00\n",
       "time_spend_company         3.00\n",
       "Work_accident              0.00\n",
       "left                       0.00\n",
       "promotion_last_5years      0.00\n",
       "dtype: float64"
      ]
     },
     "execution_count": 6,
     "metadata": {},
     "output_type": "execute_result"
    }
   ],
   "source": [
    "main_df.median(numeric_only=True) #медиана"
   ]
  },
  {
   "cell_type": "code",
   "execution_count": 7,
   "id": "8dd94191",
   "metadata": {},
   "outputs": [
    {
     "data": {
      "text/html": [
       "<div>\n",
       "<style scoped>\n",
       "    .dataframe tbody tr th:only-of-type {\n",
       "        vertical-align: middle;\n",
       "    }\n",
       "\n",
       "    .dataframe tbody tr th {\n",
       "        vertical-align: top;\n",
       "    }\n",
       "\n",
       "    .dataframe thead th {\n",
       "        text-align: right;\n",
       "    }\n",
       "</style>\n",
       "<table border=\"1\" class=\"dataframe\">\n",
       "  <thead>\n",
       "    <tr style=\"text-align: right;\">\n",
       "      <th></th>\n",
       "      <th>satisfaction_level</th>\n",
       "      <th>last_evaluation</th>\n",
       "      <th>number_project</th>\n",
       "      <th>average_montly_hours</th>\n",
       "      <th>time_spend_company</th>\n",
       "      <th>Work_accident</th>\n",
       "      <th>left</th>\n",
       "      <th>promotion_last_5years</th>\n",
       "    </tr>\n",
       "  </thead>\n",
       "  <tbody>\n",
       "    <tr>\n",
       "      <th>0</th>\n",
       "      <td>0.1</td>\n",
       "      <td>0.55</td>\n",
       "      <td>4.0</td>\n",
       "      <td>135</td>\n",
       "      <td>3.0</td>\n",
       "      <td>0.0</td>\n",
       "      <td>0.0</td>\n",
       "      <td>0.0</td>\n",
       "    </tr>\n",
       "    <tr>\n",
       "      <th>1</th>\n",
       "      <td>NaN</td>\n",
       "      <td>NaN</td>\n",
       "      <td>NaN</td>\n",
       "      <td>156</td>\n",
       "      <td>NaN</td>\n",
       "      <td>NaN</td>\n",
       "      <td>NaN</td>\n",
       "      <td>NaN</td>\n",
       "    </tr>\n",
       "  </tbody>\n",
       "</table>\n",
       "</div>"
      ],
      "text/plain": [
       "   satisfaction_level  last_evaluation  number_project  average_montly_hours   \n",
       "0                 0.1             0.55             4.0                   135  \\\n",
       "1                 NaN              NaN             NaN                   156   \n",
       "\n",
       "   time_spend_company  Work_accident  left  promotion_last_5years  \n",
       "0                 3.0            0.0   0.0                    0.0  \n",
       "1                 NaN            NaN   NaN                    NaN  "
      ]
     },
     "execution_count": 7,
     "metadata": {},
     "output_type": "execute_result"
    }
   ],
   "source": [
    "main_df.mode(numeric_only=True) #мода"
   ]
  },
  {
   "cell_type": "code",
   "execution_count": 8,
   "id": "2e657ecf",
   "metadata": {},
   "outputs": [
    {
     "data": {
      "text/plain": [
       "satisfaction_level        0.09\n",
       "last_evaluation           0.36\n",
       "number_project            2.00\n",
       "average_montly_hours     96.00\n",
       "time_spend_company        2.00\n",
       "Work_accident             0.00\n",
       "left                      0.00\n",
       "promotion_last_5years     0.00\n",
       "dtype: float64"
      ]
     },
     "execution_count": 8,
     "metadata": {},
     "output_type": "execute_result"
    }
   ],
   "source": [
    "main_df.min(numeric_only=True) #минимум"
   ]
  },
  {
   "cell_type": "code",
   "execution_count": 9,
   "id": "08143532",
   "metadata": {},
   "outputs": [
    {
     "data": {
      "text/plain": [
       "satisfaction_level         1.0\n",
       "last_evaluation            1.0\n",
       "number_project             7.0\n",
       "average_montly_hours     310.0\n",
       "time_spend_company        10.0\n",
       "Work_accident              1.0\n",
       "left                       1.0\n",
       "promotion_last_5years      1.0\n",
       "dtype: float64"
      ]
     },
     "execution_count": 9,
     "metadata": {},
     "output_type": "execute_result"
    }
   ],
   "source": [
    "main_df.max(numeric_only=True) #максимум"
   ]
  },
  {
   "cell_type": "code",
   "execution_count": 10,
   "id": "47da07c5",
   "metadata": {},
   "outputs": [
    {
     "data": {
      "text/plain": [
       "satisfaction_level        0.248631\n",
       "last_evaluation           0.171169\n",
       "number_project            1.232592\n",
       "average_montly_hours     49.943099\n",
       "time_spend_company        1.460136\n",
       "Work_accident             0.351719\n",
       "left                      0.425924\n",
       "promotion_last_5years     0.144281\n",
       "dtype: float64"
      ]
     },
     "execution_count": 10,
     "metadata": {},
     "output_type": "execute_result"
    }
   ],
   "source": [
    "main_df.std(numeric_only=True) #стандартное отклонение"
   ]
  },
  {
   "cell_type": "markdown",
   "id": "a9722743",
   "metadata": {},
   "source": [
    "## Задание 3\n",
    "Рассчитайте и визуализировать корреляционную матрицу для количественных переменных.\n",
    "Определите две самые скоррелированные и две наименее скоррелированные переменные."
   ]
  },
  {
   "cell_type": "code",
   "execution_count": 11,
   "id": "a5e55ab2",
   "metadata": {},
   "outputs": [
    {
     "data": {
      "text/html": [
       "<style type=\"text/css\">\n",
       "#T_dd8f3_row0_col0, #T_dd8f3_row1_col1, #T_dd8f3_row2_col2, #T_dd8f3_row3_col3, #T_dd8f3_row4_col4, #T_dd8f3_row5_col5, #T_dd8f3_row6_col6, #T_dd8f3_row7_col7 {\n",
       "  background-color: #006837;\n",
       "  color: #f1f1f1;\n",
       "}\n",
       "#T_dd8f3_row0_col1 {\n",
       "  background-color: #da362a;\n",
       "  color: #f1f1f1;\n",
       "}\n",
       "#T_dd8f3_row0_col2, #T_dd8f3_row0_col3, #T_dd8f3_row0_col4, #T_dd8f3_row0_col6, #T_dd8f3_row5_col1, #T_dd8f3_row6_col0, #T_dd8f3_row6_col5, #T_dd8f3_row6_col7, #T_dd8f3_row7_col1 {\n",
       "  background-color: #a50026;\n",
       "  color: #f1f1f1;\n",
       "}\n",
       "#T_dd8f3_row0_col5 {\n",
       "  background-color: #ef633f;\n",
       "  color: #f1f1f1;\n",
       "}\n",
       "#T_dd8f3_row0_col7 {\n",
       "  background-color: #ce2827;\n",
       "  color: #f1f1f1;\n",
       "}\n",
       "#T_dd8f3_row1_col0, #T_dd8f3_row1_col3, #T_dd8f3_row2_col1 {\n",
       "  background-color: #fec877;\n",
       "  color: #000000;\n",
       "}\n",
       "#T_dd8f3_row1_col2 {\n",
       "  background-color: #feea9b;\n",
       "  color: #000000;\n",
       "}\n",
       "#T_dd8f3_row1_col4 {\n",
       "  background-color: #f57547;\n",
       "  color: #f1f1f1;\n",
       "}\n",
       "#T_dd8f3_row1_col5, #T_dd8f3_row3_col5 {\n",
       "  background-color: #de402e;\n",
       "  color: #f1f1f1;\n",
       "}\n",
       "#T_dd8f3_row1_col6 {\n",
       "  background-color: #fba35c;\n",
       "  color: #000000;\n",
       "}\n",
       "#T_dd8f3_row1_col7 {\n",
       "  background-color: #bd1726;\n",
       "  color: #f1f1f1;\n",
       "}\n",
       "#T_dd8f3_row2_col0 {\n",
       "  background-color: #ed5f3c;\n",
       "  color: #f1f1f1;\n",
       "}\n",
       "#T_dd8f3_row2_col3 {\n",
       "  background-color: #fee999;\n",
       "  color: #000000;\n",
       "}\n",
       "#T_dd8f3_row2_col4 {\n",
       "  background-color: #fa9b58;\n",
       "  color: #000000;\n",
       "}\n",
       "#T_dd8f3_row2_col5 {\n",
       "  background-color: #e0422f;\n",
       "  color: #f1f1f1;\n",
       "}\n",
       "#T_dd8f3_row2_col6 {\n",
       "  background-color: #fcaa5f;\n",
       "  color: #000000;\n",
       "}\n",
       "#T_dd8f3_row2_col7 {\n",
       "  background-color: #be1827;\n",
       "  color: #f1f1f1;\n",
       "}\n",
       "#T_dd8f3_row3_col0 {\n",
       "  background-color: #fa9656;\n",
       "  color: #000000;\n",
       "}\n",
       "#T_dd8f3_row3_col1 {\n",
       "  background-color: #fdc574;\n",
       "  color: #000000;\n",
       "}\n",
       "#T_dd8f3_row3_col2 {\n",
       "  background-color: #fffcba;\n",
       "  color: #000000;\n",
       "}\n",
       "#T_dd8f3_row3_col4, #T_dd8f3_row4_col0 {\n",
       "  background-color: #f57245;\n",
       "  color: #f1f1f1;\n",
       "}\n",
       "#T_dd8f3_row3_col6 {\n",
       "  background-color: #fdbd6d;\n",
       "  color: #000000;\n",
       "}\n",
       "#T_dd8f3_row3_col7 {\n",
       "  background-color: #c01a27;\n",
       "  color: #f1f1f1;\n",
       "}\n",
       "#T_dd8f3_row4_col1 {\n",
       "  background-color: #e24731;\n",
       "  color: #f1f1f1;\n",
       "}\n",
       "#T_dd8f3_row4_col2, #T_dd8f3_row7_col0 {\n",
       "  background-color: #fdad60;\n",
       "  color: #000000;\n",
       "}\n",
       "#T_dd8f3_row4_col3, #T_dd8f3_row6_col2 {\n",
       "  background-color: #e44c34;\n",
       "  color: #f1f1f1;\n",
       "}\n",
       "#T_dd8f3_row4_col5 {\n",
       "  background-color: #e14430;\n",
       "  color: #f1f1f1;\n",
       "}\n",
       "#T_dd8f3_row4_col6 {\n",
       "  background-color: #fed884;\n",
       "  color: #000000;\n",
       "}\n",
       "#T_dd8f3_row4_col7 {\n",
       "  background-color: #dd3d2d;\n",
       "  color: #f1f1f1;\n",
       "}\n",
       "#T_dd8f3_row5_col0 {\n",
       "  background-color: #fdb96a;\n",
       "  color: #000000;\n",
       "}\n",
       "#T_dd8f3_row5_col2, #T_dd8f3_row7_col2 {\n",
       "  background-color: #dc3b2c;\n",
       "  color: #f1f1f1;\n",
       "}\n",
       "#T_dd8f3_row5_col3 {\n",
       "  background-color: #a90426;\n",
       "  color: #f1f1f1;\n",
       "}\n",
       "#T_dd8f3_row5_col4 {\n",
       "  background-color: #d22b27;\n",
       "  color: #f1f1f1;\n",
       "}\n",
       "#T_dd8f3_row5_col6 {\n",
       "  background-color: #eb5a3a;\n",
       "  color: #f1f1f1;\n",
       "}\n",
       "#T_dd8f3_row5_col7 {\n",
       "  background-color: #d42d27;\n",
       "  color: #f1f1f1;\n",
       "}\n",
       "#T_dd8f3_row6_col1 {\n",
       "  background-color: #ab0626;\n",
       "  color: #f1f1f1;\n",
       "}\n",
       "#T_dd8f3_row6_col3 {\n",
       "  background-color: #d02927;\n",
       "  color: #f1f1f1;\n",
       "}\n",
       "#T_dd8f3_row6_col4 {\n",
       "  background-color: #f67c4a;\n",
       "  color: #f1f1f1;\n",
       "}\n",
       "#T_dd8f3_row7_col3 {\n",
       "  background-color: #ad0826;\n",
       "  color: #f1f1f1;\n",
       "}\n",
       "#T_dd8f3_row7_col4 {\n",
       "  background-color: #e65036;\n",
       "  color: #f1f1f1;\n",
       "}\n",
       "#T_dd8f3_row7_col5 {\n",
       "  background-color: #ea5739;\n",
       "  color: #f1f1f1;\n",
       "}\n",
       "#T_dd8f3_row7_col6 {\n",
       "  background-color: #f7844e;\n",
       "  color: #f1f1f1;\n",
       "}\n",
       "</style>\n",
       "<table id=\"T_dd8f3\">\n",
       "  <thead>\n",
       "    <tr>\n",
       "      <th class=\"blank level0\" >&nbsp;</th>\n",
       "      <th id=\"T_dd8f3_level0_col0\" class=\"col_heading level0 col0\" >satisfaction_level</th>\n",
       "      <th id=\"T_dd8f3_level0_col1\" class=\"col_heading level0 col1\" >last_evaluation</th>\n",
       "      <th id=\"T_dd8f3_level0_col2\" class=\"col_heading level0 col2\" >number_project</th>\n",
       "      <th id=\"T_dd8f3_level0_col3\" class=\"col_heading level0 col3\" >average_montly_hours</th>\n",
       "      <th id=\"T_dd8f3_level0_col4\" class=\"col_heading level0 col4\" >time_spend_company</th>\n",
       "      <th id=\"T_dd8f3_level0_col5\" class=\"col_heading level0 col5\" >Work_accident</th>\n",
       "      <th id=\"T_dd8f3_level0_col6\" class=\"col_heading level0 col6\" >left</th>\n",
       "      <th id=\"T_dd8f3_level0_col7\" class=\"col_heading level0 col7\" >promotion_last_5years</th>\n",
       "    </tr>\n",
       "  </thead>\n",
       "  <tbody>\n",
       "    <tr>\n",
       "      <th id=\"T_dd8f3_level0_row0\" class=\"row_heading level0 row0\" >satisfaction_level</th>\n",
       "      <td id=\"T_dd8f3_row0_col0\" class=\"data row0 col0\" >1.000000</td>\n",
       "      <td id=\"T_dd8f3_row0_col1\" class=\"data row0 col1\" >0.105021</td>\n",
       "      <td id=\"T_dd8f3_row0_col2\" class=\"data row0 col2\" >-0.142970</td>\n",
       "      <td id=\"T_dd8f3_row0_col3\" class=\"data row0 col3\" >-0.020048</td>\n",
       "      <td id=\"T_dd8f3_row0_col4\" class=\"data row0 col4\" >-0.100866</td>\n",
       "      <td id=\"T_dd8f3_row0_col5\" class=\"data row0 col5\" >0.058697</td>\n",
       "      <td id=\"T_dd8f3_row0_col6\" class=\"data row0 col6\" >-0.388375</td>\n",
       "      <td id=\"T_dd8f3_row0_col7\" class=\"data row0 col7\" >0.025605</td>\n",
       "    </tr>\n",
       "    <tr>\n",
       "      <th id=\"T_dd8f3_level0_row1\" class=\"row_heading level0 row1\" >last_evaluation</th>\n",
       "      <td id=\"T_dd8f3_row1_col0\" class=\"data row1 col0\" >0.105021</td>\n",
       "      <td id=\"T_dd8f3_row1_col1\" class=\"data row1 col1\" >1.000000</td>\n",
       "      <td id=\"T_dd8f3_row1_col2\" class=\"data row1 col2\" >0.349333</td>\n",
       "      <td id=\"T_dd8f3_row1_col3\" class=\"data row1 col3\" >0.339742</td>\n",
       "      <td id=\"T_dd8f3_row1_col4\" class=\"data row1 col4\" >0.131591</td>\n",
       "      <td id=\"T_dd8f3_row1_col5\" class=\"data row1 col5\" >-0.007104</td>\n",
       "      <td id=\"T_dd8f3_row1_col6\" class=\"data row1 col6\" >0.006567</td>\n",
       "      <td id=\"T_dd8f3_row1_col7\" class=\"data row1 col7\" >-0.008684</td>\n",
       "    </tr>\n",
       "    <tr>\n",
       "      <th id=\"T_dd8f3_level0_row2\" class=\"row_heading level0 row2\" >number_project</th>\n",
       "      <td id=\"T_dd8f3_row2_col0\" class=\"data row2 col0\" >-0.142970</td>\n",
       "      <td id=\"T_dd8f3_row2_col1\" class=\"data row2 col1\" >0.349333</td>\n",
       "      <td id=\"T_dd8f3_row2_col2\" class=\"data row2 col2\" >1.000000</td>\n",
       "      <td id=\"T_dd8f3_row2_col3\" class=\"data row2 col3\" >0.417211</td>\n",
       "      <td id=\"T_dd8f3_row2_col4\" class=\"data row2 col4\" >0.196786</td>\n",
       "      <td id=\"T_dd8f3_row2_col5\" class=\"data row2 col5\" >-0.004741</td>\n",
       "      <td id=\"T_dd8f3_row2_col6\" class=\"data row2 col6\" >0.023787</td>\n",
       "      <td id=\"T_dd8f3_row2_col7\" class=\"data row2 col7\" >-0.006064</td>\n",
       "    </tr>\n",
       "    <tr>\n",
       "      <th id=\"T_dd8f3_level0_row3\" class=\"row_heading level0 row3\" >average_montly_hours</th>\n",
       "      <td id=\"T_dd8f3_row3_col0\" class=\"data row3 col0\" >-0.020048</td>\n",
       "      <td id=\"T_dd8f3_row3_col1\" class=\"data row3 col1\" >0.339742</td>\n",
       "      <td id=\"T_dd8f3_row3_col2\" class=\"data row3 col2\" >0.417211</td>\n",
       "      <td id=\"T_dd8f3_row3_col3\" class=\"data row3 col3\" >1.000000</td>\n",
       "      <td id=\"T_dd8f3_row3_col4\" class=\"data row3 col4\" >0.127755</td>\n",
       "      <td id=\"T_dd8f3_row3_col5\" class=\"data row3 col5\" >-0.010143</td>\n",
       "      <td id=\"T_dd8f3_row3_col6\" class=\"data row3 col6\" >0.071287</td>\n",
       "      <td id=\"T_dd8f3_row3_col7\" class=\"data row3 col7\" >-0.003544</td>\n",
       "    </tr>\n",
       "    <tr>\n",
       "      <th id=\"T_dd8f3_level0_row4\" class=\"row_heading level0 row4\" >time_spend_company</th>\n",
       "      <td id=\"T_dd8f3_row4_col0\" class=\"data row4 col0\" >-0.100866</td>\n",
       "      <td id=\"T_dd8f3_row4_col1\" class=\"data row4 col1\" >0.131591</td>\n",
       "      <td id=\"T_dd8f3_row4_col2\" class=\"data row4 col2\" >0.196786</td>\n",
       "      <td id=\"T_dd8f3_row4_col3\" class=\"data row4 col3\" >0.127755</td>\n",
       "      <td id=\"T_dd8f3_row4_col4\" class=\"data row4 col4\" >1.000000</td>\n",
       "      <td id=\"T_dd8f3_row4_col5\" class=\"data row4 col5\" >0.002120</td>\n",
       "      <td id=\"T_dd8f3_row4_col6\" class=\"data row4 col6\" >0.144822</td>\n",
       "      <td id=\"T_dd8f3_row4_col7\" class=\"data row4 col7\" >0.067433</td>\n",
       "    </tr>\n",
       "    <tr>\n",
       "      <th id=\"T_dd8f3_level0_row5\" class=\"row_heading level0 row5\" >Work_accident</th>\n",
       "      <td id=\"T_dd8f3_row5_col0\" class=\"data row5 col0\" >0.058697</td>\n",
       "      <td id=\"T_dd8f3_row5_col1\" class=\"data row5 col1\" >-0.007104</td>\n",
       "      <td id=\"T_dd8f3_row5_col2\" class=\"data row5 col2\" >-0.004741</td>\n",
       "      <td id=\"T_dd8f3_row5_col3\" class=\"data row5 col3\" >-0.010143</td>\n",
       "      <td id=\"T_dd8f3_row5_col4\" class=\"data row5 col4\" >0.002120</td>\n",
       "      <td id=\"T_dd8f3_row5_col5\" class=\"data row5 col5\" >1.000000</td>\n",
       "      <td id=\"T_dd8f3_row5_col6\" class=\"data row5 col6\" >-0.154622</td>\n",
       "      <td id=\"T_dd8f3_row5_col7\" class=\"data row5 col7\" >0.039245</td>\n",
       "    </tr>\n",
       "    <tr>\n",
       "      <th id=\"T_dd8f3_level0_row6\" class=\"row_heading level0 row6\" >left</th>\n",
       "      <td id=\"T_dd8f3_row6_col0\" class=\"data row6 col0\" >-0.388375</td>\n",
       "      <td id=\"T_dd8f3_row6_col1\" class=\"data row6 col1\" >0.006567</td>\n",
       "      <td id=\"T_dd8f3_row6_col2\" class=\"data row6 col2\" >0.023787</td>\n",
       "      <td id=\"T_dd8f3_row6_col3\" class=\"data row6 col3\" >0.071287</td>\n",
       "      <td id=\"T_dd8f3_row6_col4\" class=\"data row6 col4\" >0.144822</td>\n",
       "      <td id=\"T_dd8f3_row6_col5\" class=\"data row6 col5\" >-0.154622</td>\n",
       "      <td id=\"T_dd8f3_row6_col6\" class=\"data row6 col6\" >1.000000</td>\n",
       "      <td id=\"T_dd8f3_row6_col7\" class=\"data row6 col7\" >-0.061788</td>\n",
       "    </tr>\n",
       "    <tr>\n",
       "      <th id=\"T_dd8f3_level0_row7\" class=\"row_heading level0 row7\" >promotion_last_5years</th>\n",
       "      <td id=\"T_dd8f3_row7_col0\" class=\"data row7 col0\" >0.025605</td>\n",
       "      <td id=\"T_dd8f3_row7_col1\" class=\"data row7 col1\" >-0.008684</td>\n",
       "      <td id=\"T_dd8f3_row7_col2\" class=\"data row7 col2\" >-0.006064</td>\n",
       "      <td id=\"T_dd8f3_row7_col3\" class=\"data row7 col3\" >-0.003544</td>\n",
       "      <td id=\"T_dd8f3_row7_col4\" class=\"data row7 col4\" >0.067433</td>\n",
       "      <td id=\"T_dd8f3_row7_col5\" class=\"data row7 col5\" >0.039245</td>\n",
       "      <td id=\"T_dd8f3_row7_col6\" class=\"data row7 col6\" >-0.061788</td>\n",
       "      <td id=\"T_dd8f3_row7_col7\" class=\"data row7 col7\" >1.000000</td>\n",
       "    </tr>\n",
       "  </tbody>\n",
       "</table>\n"
      ],
      "text/plain": [
       "<pandas.io.formats.style.Styler at 0x7fed2a4f78e0>"
      ]
     },
     "execution_count": 11,
     "metadata": {},
     "output_type": "execute_result"
    }
   ],
   "source": [
    "corr = main_df.corr(numeric_only=True)\n",
    "corr.style.background_gradient(cmap='RdYlGn')"
   ]
  },
  {
   "cell_type": "code",
   "execution_count": 12,
   "id": "07ab3d28",
   "metadata": {},
   "outputs": [
    {
     "data": {
      "text/plain": [
       "<Axes: >"
      ]
     },
     "execution_count": 12,
     "metadata": {},
     "output_type": "execute_result"
    },
    {
     "data": {
      "image/png": "[encoded data removed]",
      "text/plain": [
       "<Figure size 640x480 with 2 Axes>"
      ]
     },
     "metadata": {},
     "output_type": "display_data"
    }
   ],
   "source": [
    "sns.heatmap(corr) # построение тепловой карты с помощью библиотеки seaborn"
   ]
  },
  {
   "cell_type": "code",
   "execution_count": 13,
   "id": "b2f104c9",
   "metadata": {},
   "outputs": [
    {
     "data": {
      "text/plain": [
       "left                satisfaction_level   -0.388375\n",
       "satisfaction_level  left                 -0.388375\n",
       "dtype: float64"
      ]
     },
     "execution_count": 13,
     "metadata": {},
     "output_type": "execute_result"
    }
   ],
   "source": [
    "corr1 = corr.unstack().sort_values()\n",
    "corr1[corr1 == corr1.min()] #минимальная пара"
   ]
  },
  {
   "cell_type": "code",
   "execution_count": 14,
   "id": "d545164d",
   "metadata": {},
   "outputs": [
    {
     "data": {
      "text/plain": [
       "average_montly_hours  number_project          0.417211\n",
       "number_project        average_montly_hours    0.417211\n",
       "dtype: float64"
      ]
     },
     "execution_count": 14,
     "metadata": {},
     "output_type": "execute_result"
    }
   ],
   "source": [
    "corr2 = corr1[corr1 < 1.0]\n",
    "corr2[corr2 == corr2.max()] #максимальная пара"
   ]
  },
  {
   "cell_type": "markdown",
   "id": "6d4f7e53",
   "metadata": {},
   "source": [
    "## Задание 4\n",
    "Рассчитайте сколько сотрудников работает в каждом департаменте."
   ]
  },
  {
   "cell_type": "code",
   "execution_count": 15,
   "id": "23499537",
   "metadata": {},
   "outputs": [
    {
     "data": {
      "text/plain": [
       "department\n",
       "sales          3126\n",
       "technical      2023\n",
       "support        1674\n",
       "IT              954\n",
       "product_mng     704\n",
       "RandD           666\n",
       "marketing       655\n",
       "accounting      563\n",
       "management      539\n",
       "hr              524\n",
       "Name: count, dtype: int64"
      ]
     },
     "execution_count": 15,
     "metadata": {},
     "output_type": "execute_result"
    }
   ],
   "source": [
    "main_df['department'][main_df['left'] ==0].value_counts() #только работающие сейчас сотрудники"
   ]
  },
  {
   "cell_type": "markdown",
   "id": "39243499",
   "metadata": {},
   "source": [
    "## Задание 5\n",
    "Показать распределение сотрудников по зарплатам."
   ]
  },
  {
   "cell_type": "code",
   "execution_count": 16,
   "id": "4d6d9bf1",
   "metadata": {},
   "outputs": [
    {
     "data": {
      "image/png": "[encoded data removed]",
      "text/plain": [
       "<Figure size 640x480 with 1 Axes>"
      ]
     },
     "metadata": {},
     "output_type": "display_data"
    }
   ],
   "source": [
    "main_df['salary'][main_df['left'] == 0].hist(bins=30) #только работающие сотрудники\n",
    "plt.xlabel('salary')\n",
    "plt.ylabel('workers')\n",
    "plt.show()"
   ]
  },
  {
   "cell_type": "markdown",
   "id": "76b03070",
   "metadata": {},
   "source": [
    "## Задание 6\n",
    "Показать распределение сотрудников по зарплатам в каждом департаменте по отдельности"
   ]
  },
  {
   "cell_type": "code",
   "execution_count": 17,
   "id": "0a25df3f",
   "metadata": {},
   "outputs": [
    {
     "data": {
      "image/png": "[encoded data removed]",
      "text/plain": [
       "<Figure size 1000x1800 with 10 Axes>"
      ]
     },
     "metadata": {},
     "output_type": "display_data"
    }
   ],
   "source": [
    "plt.figure(figsize=(10,18))\n",
    "j = 1\n",
    "for department in main_df['department'].unique():\n",
    "    plt.subplot(5,2,j)\n",
    "    main_df['salary'][(main_df['left'] == 0) & (main_df['department'] == department)].hist(bins=30)\n",
    "    plt.title(department)\n",
    "    #plt.xlabel('salary')\n",
    "    plt.ylabel('workers')\n",
    "    j += 1\n",
    "plt.show()"
   ]
  },
  {
   "cell_type": "code",
   "execution_count": 18,
   "id": "e4e2ca4f",
   "metadata": {},
   "outputs": [
    {
     "data": {
      "image/png": "[encoded data removed]",
      "text/plain": [
       "<Figure size 1200x1000 with 1 Axes>"
      ]
     },
     "metadata": {},
     "output_type": "display_data"
    }
   ],
   "source": [
    "plt.figure(figsize=(12,10))\n",
    "j = 1\n",
    "for department in main_df['department'].unique():\n",
    "    main_df['salary'][(main_df['left'] == 0) & (main_df['department'] == department)].hist(bins=(10 + j*5))\n",
    "    plt.title('Распределение зарплат')\n",
    "    plt.xlabel('salary')\n",
    "    plt.ylabel('workers')\n",
    "    j += 1\n",
    "plt.legend(main_df['department'].unique())\n",
    "plt.show()"
   ]
  },
  {
   "cell_type": "markdown",
   "id": "352eb514",
   "metadata": {},
   "source": [
    "## Задание 7\n",
    "Проверить гипотезу, что сотрудники с высоким окладом проводят на работе больше времени, чем сотрудники с низким окладом"
   ]
  },
  {
   "cell_type": "code",
   "execution_count": 19,
   "id": "1e80f7c5",
   "metadata": {},
   "outputs": [
    {
     "name": "stdout",
     "output_type": "stream",
     "text": [
      "200.97308743169398\n",
      "200.9965828321487\n",
      "199.86742118027485\n",
      "Ttest_indResult(statistic=-0.6864556719745556, pvalue=0.4924901903070886)\n",
      "Не отклоняем нулевую гипотезу\n"
     ]
    }
   ],
   "source": [
    "# H0 - сотрудники проводят примерно одинаково времени на работе\n",
    "# H1 - сотрудники с высоким окладом проводят на работе больше времени\n",
    "#print(main_df[main_df['salary'] == 'high']['average_montly_hours'].count()) #1237 выборок\n",
    "#print(main_df[main_df['salary'] == 'low']['average_montly_hours'].count()) #7316 выборок\n",
    "high_salary = main_df[main_df['salary'] == 'high']['average_montly_hours'].values\n",
    "low1 = main_df[main_df['salary'] == 'low'].reset_index()\n",
    "low1.head(100)\n",
    "low1 = low1['average_montly_hours'].groupby(np.arange(len(low1.index))//5, axis=0).mean()\n",
    "# усреднили группами по 5 значений? так как их много\n",
    "print(low1.mean())\n",
    "print(main_df[main_df['salary'] == 'low']['average_montly_hours'].values.mean())\n",
    "# среднее близко\n",
    "print(main_df[main_df['salary'] == 'high']['average_montly_hours'].values.mean())\n",
    "low_salary = low1.iloc[0:1237].values # сравняли выборки\n",
    "p = stats.ttest_ind(high_salary, low_salary, equal_var = True)\n",
    "print(p)\n",
    "if p[1] < 0.05:\n",
    "    print(\"Отклоняем нулевую гипотезу\")\n",
    "else:\n",
    "    print(\"Не отклоняем нулевую гипотезу\")"
   ]
  },
  {
   "cell_type": "markdown",
   "id": "c138fd7b",
   "metadata": {},
   "source": [
    "## Задание 8\n",
    "Рассчитать следующие показатели среди уволившихся и не уволившихся сотрудников (по отдельности):\n",
    "● Доля сотрудников с повышением за последние 5 лет\n",
    "● Средняя степень удовлетворенности\n",
    "● Среднее количество проектов"
   ]
  },
  {
   "cell_type": "code",
   "execution_count": 20,
   "id": "1a9d7b17",
   "metadata": {},
   "outputs": [],
   "source": [
    "working = main_df[main_df['left'] == 0]\n",
    "lefted = main_df[main_df['left'] == 1]"
   ]
  },
  {
   "cell_type": "code",
   "execution_count": 21,
   "id": "bcb68476",
   "metadata": {},
   "outputs": [
    {
     "name": "stdout",
     "output_type": "stream",
     "text": [
      "Для работающих сотрудников\n",
      "Доля сотрудников с повышением за последние 5 лет: 2.625%\n",
      "Средняя степень удовлетворенности: 0.67\n",
      "Среднее количество проектов: 3.79\n"
     ]
    }
   ],
   "source": [
    "print('Для работающих сотрудников')\n",
    "print(f\"Доля сотрудников с повышением за последние 5 лет: {working[working['promotion_last_5years'] == 1]['promotion_last_5years'].count() / working['promotion_last_5years'].count() *100:.3f}%\")\n",
    "print(f\"Средняя степень удовлетворенности: {working['satisfaction_level'].mean():.2f}\")\n",
    "print(f\"Среднее количество проектов: {working['number_project'].mean():.2f}\")\n"
   ]
  },
  {
   "cell_type": "code",
   "execution_count": 22,
   "id": "9fc2c327",
   "metadata": {},
   "outputs": [
    {
     "name": "stdout",
     "output_type": "stream",
     "text": [
      "Для бывших сотрудников\n",
      "Доля сотрудников с повышением за последние 5 лет: 0.166%\n",
      "Средняя степень удовлетворенности: 0.44\n",
      "Среднее количество проектов: 3.86\n"
     ]
    }
   ],
   "source": [
    "print('Для бывших сотрудников')\n",
    "print(f\"Доля сотрудников с повышением за последние 5 лет: {lefted[lefted['promotion_last_5years'] == 1]['promotion_last_5years'].count() / working['promotion_last_5years'].count() *100:.3f}%\")\n",
    "print(f\"Средняя степень удовлетворенности: {lefted['satisfaction_level'].mean():.2f}\")\n",
    "print(f\"Среднее количество проектов: {lefted['number_project'].mean():.2f}\")"
   ]
  },
  {
   "cell_type": "markdown",
   "id": "efd2f1b8",
   "metadata": {},
   "source": [
    "## Задание 9\n",
    "Разделить данные на тестовую и обучающую выборки Построить модель LDA, предсказывающую уволился ли сотрудник на основе имеющихся факторов (кроме department и salary)\n",
    "Оценить качество модели на тестовой выборки"
   ]
  },
  {
   "cell_type": "code",
   "execution_count": 23,
   "id": "6aaf6765",
   "metadata": {},
   "outputs": [
    {
     "data": {
      "text/html": [
       "<style>#sk-container-id-1 {color: black;}#sk-container-id-1 pre{padding: 0;}#sk-container-id-1 div.sk-toggleable {background-color: white;}#sk-container-id-1 label.sk-toggleable__label {cursor: pointer;display: block;width: 100%;margin-bottom: 0;padding: 0.3em;box-sizing: border-box;text-align: center;}#sk-container-id-1 label.sk-toggleable__label-arrow:before {content: \"▸\";float: left;margin-right: 0.25em;color: #696969;}#sk-container-id-1 label.sk-toggleable__label-arrow:hover:before {color: black;}#sk-container-id-1 div.sk-estimator:hover label.sk-toggleable__label-arrow:before {color: black;}#sk-container-id-1 div.sk-toggleable__content {max-height: 0;max-width: 0;overflow: hidden;text-align: left;background-color: #f0f8ff;}#sk-container-id-1 div.sk-toggleable__content pre {margin: 0.2em;color: black;border-radius: 0.25em;background-color: #f0f8ff;}#sk-container-id-1 input.sk-toggleable__control:checked~div.sk-toggleable__content {max-height: 200px;max-width: 100%;overflow: auto;}#sk-container-id-1 input.sk-toggleable__control:checked~label.sk-toggleable__label-arrow:before {content: \"▾\";}#sk-container-id-1 div.sk-estimator input.sk-toggleable__control:checked~label.sk-toggleable__label {background-color: #d4ebff;}#sk-container-id-1 div.sk-label input.sk-toggleable__control:checked~label.sk-toggleable__label {background-color: #d4ebff;}#sk-container-id-1 input.sk-hidden--visually {border: 0;clip: rect(1px 1px 1px 1px);clip: rect(1px, 1px, 1px, 1px);height: 1px;margin: -1px;overflow: hidden;padding: 0;position: absolute;width: 1px;}#sk-container-id-1 div.sk-estimator {font-family: monospace;background-color: #f0f8ff;border: 1px dotted black;border-radius: 0.25em;box-sizing: border-box;margin-bottom: 0.5em;}#sk-container-id-1 div.sk-estimator:hover {background-color: #d4ebff;}#sk-container-id-1 div.sk-parallel-item::after {content: \"\";width: 100%;border-bottom: 1px solid gray;flex-grow: 1;}#sk-container-id-1 div.sk-label:hover label.sk-toggleable__label {background-color: #d4ebff;}#sk-container-id-1 div.sk-serial::before {content: \"\";position: absolute;border-left: 1px solid gray;box-sizing: border-box;top: 0;bottom: 0;left: 50%;z-index: 0;}#sk-container-id-1 div.sk-serial {display: flex;flex-direction: column;align-items: center;background-color: white;padding-right: 0.2em;padding-left: 0.2em;position: relative;}#sk-container-id-1 div.sk-item {position: relative;z-index: 1;}#sk-container-id-1 div.sk-parallel {display: flex;align-items: stretch;justify-content: center;background-color: white;position: relative;}#sk-container-id-1 div.sk-item::before, #sk-container-id-1 div.sk-parallel-item::before {content: \"\";position: absolute;border-left: 1px solid gray;box-sizing: border-box;top: 0;bottom: 0;left: 50%;z-index: -1;}#sk-container-id-1 div.sk-parallel-item {display: flex;flex-direction: column;z-index: 1;position: relative;background-color: white;}#sk-container-id-1 div.sk-parallel-item:first-child::after {align-self: flex-end;width: 50%;}#sk-container-id-1 div.sk-parallel-item:last-child::after {align-self: flex-start;width: 50%;}#sk-container-id-1 div.sk-parallel-item:only-child::after {width: 0;}#sk-container-id-1 div.sk-dashed-wrapped {border: 1px dashed gray;margin: 0 0.4em 0.5em 0.4em;box-sizing: border-box;padding-bottom: 0.4em;background-color: white;}#sk-container-id-1 div.sk-label label {font-family: monospace;font-weight: bold;display: inline-block;line-height: 1.2em;}#sk-container-id-1 div.sk-label-container {text-align: center;}#sk-container-id-1 div.sk-container {/* jupyter's `normalize.less` sets `[hidden] { display: none; }` but bootstrap.min.css set `[hidden] { display: none !important; }` so we also need the `!important` here to be able to override the default hidden behavior on the sphinx rendered scikit-learn.org. See: https://github.com/scikit-learn/scikit-learn/issues/21755 */display: inline-block !important;position: relative;}#sk-container-id-1 div.sk-text-repr-fallback {display: none;}</style><div id=\"sk-container-id-1\" class=\"sk-top-container\"><div class=\"sk-text-repr-fallback\"><pre>LinearDiscriminantAnalysis()</pre><b>In a Jupyter environment, please rerun this cell to show the HTML representation or trust the notebook. <br />On GitHub, the HTML representation is unable to render, please try loading this page with nbviewer.org.</b></div><div class=\"sk-container\" hidden><div class=\"sk-item\"><div class=\"sk-estimator sk-toggleable\"><input class=\"sk-toggleable__control sk-hidden--visually\" id=\"sk-estimator-id-1\" type=\"checkbox\" checked><label for=\"sk-estimator-id-1\" class=\"sk-toggleable__label sk-toggleable__label-arrow\">LinearDiscriminantAnalysis</label><div class=\"sk-toggleable__content\"><pre>LinearDiscriminantAnalysis()</pre></div></div></div></div></div>"
      ],
      "text/plain": [
       "LinearDiscriminantAnalysis()"
      ]
     },
     "execution_count": 23,
     "metadata": {},
     "output_type": "execute_result"
    }
   ],
   "source": [
    "X = main_df[['satisfaction_level', 'last_evaluation', 'number_project', 'average_montly_hours', 'time_spend_company', 'Work_accident', 'promotion_last_5years']]\n",
    "y = main_df['left'].values\n",
    "X_train, X_test, y_train, y_test = train_test_split(X, y,train_size=2/3, random_state=0)\n",
    "\n",
    "lda = LinearDiscriminantAnalysis()\n",
    "lda.fit(X_train, y_train)\n"
   ]
  },
  {
   "cell_type": "code",
   "execution_count": 24,
   "id": "7b46bf79",
   "metadata": {},
   "outputs": [
    {
     "data": {
      "text/plain": [
       "0.7622"
      ]
     },
     "execution_count": 24,
     "metadata": {},
     "output_type": "execute_result"
    }
   ],
   "source": [
    "result = pd.DataFrame([y_test, lda.predict(X_test)]).T\n",
    "accuracy_score(y_test, lda.predict(X_test))"
   ]
  },
  {
   "cell_type": "markdown",
   "id": "caaa10c3",
   "metadata": {},
   "source": [
    "Ни изменение тестовой выборки, ни подмешивание случайных значений существенно не изменяют результат, который с учетом человеческого фактора довольно высок\n"
   ]
  },
  {
   "cell_type": "markdown",
   "id": "2b2ede8b",
   "metadata": {},
   "source": [
    "## Задание 10\n",
    "Загрузить jupyter notebook с решение на github и прислать ссылку"
   ]
  },
  {
   "cell_type": "code",
   "execution_count": null,
   "id": "df31fb51",
   "metadata": {},
   "outputs": [],
   "source": []
  }
 ],
 "metadata": {
  "kernelspec": {
   "display_name": "Python 3 (ipykernel)",
   "language": "python",
   "name": "python3"
  },
  "language_info": {
   "codemirror_mode": {
    "name": "ipython",
    "version": 3
   },
   "file_extension": ".py",
   "mimetype": "text/x-python",
   "name": "python",
   "nbconvert_exporter": "python",
   "pygments_lexer": "ipython3",
   "version": "3.8.6"
  }
 },
 "nbformat": 4,
 "nbformat_minor": 5
}
